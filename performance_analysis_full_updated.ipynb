{
 "cells": [
  {
   "cell_type": "markdown",
   "metadata": {
    "application/vnd.databricks.v1+cell": {
     "cellMetadata": {
      "byteLimit": 2048000,
      "rowLimit": 10000
     },
     "inputWidgets": {},
     "nuid": "ed6a7cd0-ad5b-4cfe-ba36-9e46db8b5153",
     "showTitle": false,
     "tableResultSettingsMap": {},
     "title": ""
    }
   },
   "source": [
    "### File: performance_analysis_full_updated.ipynb\n",
    "#### Created with assistance of ChatGPT (OpenAI) – reviewed on 2025-05-11\n",
    "#### Author: Maria Heinrich"
   ]
  },
  {
   "cell_type": "code",
   "execution_count": 47,
   "metadata": {
    "application/vnd.databricks.v1+cell": {
     "cellMetadata": {
      "byteLimit": 2048000,
      "rowLimit": 10000
     },
     "inputWidgets": {},
     "nuid": "8693e933-df2f-49c4-9ce5-007365776424",
     "showTitle": false,
     "tableResultSettingsMap": {},
     "title": ""
    }
   },
   "outputs": [
    {
     "data": {
      "text/html": [
       "<div>\n",
       "<style scoped>\n",
       "    .dataframe tbody tr th:only-of-type {\n",
       "        vertical-align: middle;\n",
       "    }\n",
       "\n",
       "    .dataframe tbody tr th {\n",
       "        vertical-align: top;\n",
       "    }\n",
       "\n",
       "    .dataframe thead th {\n",
       "        text-align: right;\n",
       "    }\n",
       "</style>\n",
       "<table border=\"1\" class=\"dataframe\">\n",
       "  <thead>\n",
       "    <tr style=\"text-align: right;\">\n",
       "      <th></th>\n",
       "      <th>Environment</th>\n",
       "      <th>Date</th>\n",
       "      <th>Execution Time (s)</th>\n",
       "    </tr>\n",
       "  </thead>\n",
       "  <tbody>\n",
       "    <tr>\n",
       "      <th>0</th>\n",
       "      <td>Databricks</td>\n",
       "      <td>May 5</td>\n",
       "      <td>51.66</td>\n",
       "    </tr>\n",
       "    <tr>\n",
       "      <th>1</th>\n",
       "      <td>Databricks</td>\n",
       "      <td>May 5</td>\n",
       "      <td>44.15</td>\n",
       "    </tr>\n",
       "    <tr>\n",
       "      <th>2</th>\n",
       "      <td>Databricks</td>\n",
       "      <td>May 5</td>\n",
       "      <td>45.22</td>\n",
       "    </tr>\n",
       "    <tr>\n",
       "      <th>3</th>\n",
       "      <td>Databricks</td>\n",
       "      <td>May 5</td>\n",
       "      <td>44.93</td>\n",
       "    </tr>\n",
       "    <tr>\n",
       "      <th>4</th>\n",
       "      <td>Databricks</td>\n",
       "      <td>May 5</td>\n",
       "      <td>45.27</td>\n",
       "    </tr>\n",
       "  </tbody>\n",
       "</table>\n",
       "</div>"
      ],
      "text/plain": [
       "  Environment   Date  Execution Time (s)\n",
       "0  Databricks  May 5               51.66\n",
       "1  Databricks  May 5               44.15\n",
       "2  Databricks  May 5               45.22\n",
       "3  Databricks  May 5               44.93\n",
       "4  Databricks  May 5               45.27"
      ]
     },
     "execution_count": 47,
     "metadata": {},
     "output_type": "execute_result"
    }
   ],
   "source": [
    "import pandas as pd\n",
    "import matplotlib.pyplot as plt\n",
    "import seaborn as sns\n",
    "from scipy import stats\n",
    "from scipy.stats import skew\n",
    "\n",
    "# Load your execution times CSV\n",
    "df = pd.read_csv(\"Execution_Times.csv\")  # Adjust the path as needed\n",
    "\n",
    "# Parse Environment and Date from Filename\n",
    "def parse_metadata(filename):\n",
    "    if \"Notebook\" in filename:\n",
    "        environment = \"Fabric\"\n",
    "    else:\n",
    "        environment = \"Databricks\"\n",
    "\n",
    "    if \"_0505\" in filename or \"_21_\" in filename:\n",
    "        date = \"May 5\"\n",
    "    elif \"_0506\" in filename or \"_22_\" in filename:\n",
    "        date = \"May 6\"\n",
    "    elif \"_250511_\" in filename or \"_18_\" in filename:\n",
    "        date = \"May 11\"\n",
    "    else:\n",
    "        date = \"Unknown\"\n",
    "\n",
    "    return pd.Series([environment, date])\n",
    "\n",
    "# Apply classification\n",
    "df[['Environment', 'Date']] = df['Filename'].apply(parse_metadata)\n",
    "df = df.rename(columns={\"Execution time in seconds\": \"Execution Time (s)\"})\n",
    "df = df[['Environment', 'Date', 'Execution Time (s)']]\n",
    "df.head()"
   ]
  },
  {
   "cell_type": "code",
   "execution_count": 48,
   "metadata": {},
   "outputs": [
    {
     "data": {
      "image/png": "[encoded data removed]",
      "text/plain": [
       "<Figure size 720x432 with 1 Axes>"
      ]
     },
     "metadata": {
      "needs_background": "light"
     },
     "output_type": "display_data"
    }
   ],
   "source": [
    "# Load your execution times CSV\n",
    "df = pd.read_csv(\"Execution_Times.csv\")  # Adjust the path as needed\n",
    "\n",
    "# Apply classification\n",
    "df[['Environment', 'Date']] = df['Filename'].apply(parse_metadata)\n",
    "df = df.rename(columns={\"Execution time in seconds\": \"Execution Time (s)\"})\n",
    "df = df[['Environment', 'Date', 'Execution Time (s)']]\n",
    "\n",
    "test_day_results = df.groupby([\"Environment\", \"Date\"])[\"Execution Time (s)\"].apply(skew).reset_index(name=\"Skewness\")\n",
    "test_day_results = test_day_results.rename(columns={\"Execution Time (s)\": \"Skewness\"})\n",
    "test_day_results = test_day_results.sort_values(by=[\"Environment\", \"Date\"])\n",
    "\n",
    "\n",
    "\n",
    "# Group by Environment and Date to calculate skewness\n",
    "test_day_results = df.groupby([\"Environment\", \"Date\"])[\"Execution Time (s)\"].apply(skew).reset_index(name=\"Skewness\")\n",
    "\n",
    "# Define custom colors\n",
    "custom_palette = {\n",
    "    \"Databricks\": \"lightgreen\",  # match distribution plot for Databricks\n",
    "    \"Fabric\": \"skyblue\"          # match distribution plot for Fabric\n",
    "}\n",
    "\n",
    "# Create the skewness barplot with the specified color palette\n",
    "plt.figure(figsize=(10, 6))\n",
    "sns.barplot(data=test_day_results, x=\"Date\", y=\"Skewness\", hue=\"Environment\", palette=custom_palette)\n",
    "plt.title(\"Skewness of Execution Time by Environment and Date\")\n",
    "plt.xlabel(\"Date\")\n",
    "plt.ylabel(\"Skewness\")\n",
    "plt.grid(True)\n",
    "plt.tight_layout()\n",
    "plt.show()\n",
    "\n"
   ]
  },
  {
   "cell_type": "code",
   "execution_count": 49,
   "metadata": {},
   "outputs": [
    {
     "data": {
      "image/png": "[encoded data removed]",
      "text/plain": [
       "<Figure size 864x360 with 2 Axes>"
      ]
     },
     "metadata": {
      "needs_background": "light"
     },
     "output_type": "display_data"
    }
   ],
   "source": [
    "# Extract execution times for Fabric and Databricks\n",
    "fabric_times = df[df[\"Environment\"] == \"Fabric\"][\"Execution Time (s)\"]\n",
    "databricks_times = df[df[\"Environment\"] == \"Databricks\"][\"Execution Time (s)\"]\n",
    "\n",
    "\n",
    "# Plot distribution with fitted normal for Databricks\n",
    "plt.figure(figsize=(12, 5))\n",
    "plt.subplot(1, 2, 1)\n",
    "sns.histplot(databricks_times, bins=10, kde=True, stat=\"density\", color=\"lightgreen\", label=\"Empirical\")\n",
    "mu_db, std_db = norm.fit(databricks_times)\n",
    "x_db = np.linspace(databricks_times.min(), databricks_times.max(), 100)\n",
    "p_db = norm.pdf(x_db, mu_db, std_db)\n",
    "plt.plot(x_db, p_db, 'r--', label=f'Normal Fit\\nμ={mu_db:.2f}, σ={std_db:.2f}')\n",
    "plt.title(\"Databricks Execution Time Distribution with Normal Fit\")\n",
    "plt.xlabel(\"Execution Time (s)\")\n",
    "plt.ylabel(\"Density\")\n",
    "plt.legend()\n",
    "plt.grid(True)\n",
    "\n",
    "# Plot distribution with fitted normal for Fabric\n",
    "plt.subplot(1, 2, 2)\n",
    "sns.histplot(fabric_times, bins=10, kde=True, stat=\"density\", color=\"skyblue\", label=\"Empirical\")\n",
    "mu_fab, std_fab = norm.fit(fabric_times)\n",
    "x_fab = np.linspace(fabric_times.min(), fabric_times.max(), 100)\n",
    "p_fab = norm.pdf(x_fab, mu_fab, std_fab)\n",
    "plt.plot(x_fab, p_fab, 'r--', label=f'Normal Fit\\nμ={mu_fab:.2f}, σ={std_fab:.2f}')\n",
    "plt.title(\"Fabric Execution Time Distribution with Normal Fit\")\n",
    "plt.xlabel(\"Execution Time (s)\")\n",
    "plt.ylabel(\"Density\")\n",
    "plt.legend()\n",
    "plt.grid(True)\n",
    "\n",
    "plt.tight_layout()\n",
    "plt.show()\n"
   ]
  },
  {
   "cell_type": "code",
   "execution_count": 50,
   "metadata": {
    "application/vnd.databricks.v1+cell": {
     "cellMetadata": {
      "byteLimit": 2048000,
      "rowLimit": 10000
     },
     "inputWidgets": {},
     "nuid": "457ebd91-f3f9-4811-9756-b101704899d2",
     "showTitle": false,
     "tableResultSettingsMap": {},
     "title": ""
    }
   },
   "outputs": [
    {
     "data": {
      "image/png": "[encoded data removed]",
      "text/plain": [
       "<Figure size 720x432 with 1 Axes>"
      ]
     },
     "metadata": {
      "needs_background": "light"
     },
     "output_type": "display_data"
    }
   ],
   "source": [
    "\n",
    "# Define custom colors\n",
    "custom_palette = {\n",
    "    \"Databricks\": \"lightgreen\",  # match distribution plot for Databricks\n",
    "    \"Fabric\": \"skyblue\"          # match distribution plot for Fabric\n",
    "}\n",
    "\n",
    "plt.figure(figsize=(10, 6))\n",
    "sns.boxplot(data=df, x=\"Date\", y=\"Execution Time (s)\", hue=\"Environment\", palette=custom_palette)\n",
    "plt.title(\"Execution Time Distribution: Azure Databricks vs Microsoft Fabric\")\n",
    "plt.grid(True)\n",
    "plt.show()\n"
   ]
  },
  {
   "cell_type": "code",
   "execution_count": 51,
   "metadata": {
    "application/vnd.databricks.v1+cell": {
     "cellMetadata": {
      "byteLimit": 2048000,
      "rowLimit": 10000
     },
     "inputWidgets": {},
     "nuid": "3d08f799-d5b9-4e1a-89be-993290af498d",
     "showTitle": false,
     "tableResultSettingsMap": {},
     "title": ""
    }
   },
   "outputs": [
    {
     "data": {
      "text/html": [
       "<div>\n",
       "<style scoped>\n",
       "    .dataframe tbody tr th:only-of-type {\n",
       "        vertical-align: middle;\n",
       "    }\n",
       "\n",
       "    .dataframe tbody tr th {\n",
       "        vertical-align: top;\n",
       "    }\n",
       "\n",
       "    .dataframe thead th {\n",
       "        text-align: right;\n",
       "    }\n",
       "</style>\n",
       "<table border=\"1\" class=\"dataframe\">\n",
       "  <thead>\n",
       "    <tr style=\"text-align: right;\">\n",
       "      <th></th>\n",
       "      <th>Environment</th>\n",
       "      <th>Date</th>\n",
       "      <th>mean</th>\n",
       "      <th>min</th>\n",
       "      <th>max</th>\n",
       "      <th>std</th>\n",
       "    </tr>\n",
       "  </thead>\n",
       "  <tbody>\n",
       "    <tr>\n",
       "      <th>0</th>\n",
       "      <td>Databricks</td>\n",
       "      <td>May 11</td>\n",
       "      <td>29.661</td>\n",
       "      <td>29.03</td>\n",
       "      <td>32.05</td>\n",
       "      <td>0.881860</td>\n",
       "    </tr>\n",
       "    <tr>\n",
       "      <th>1</th>\n",
       "      <td>Databricks</td>\n",
       "      <td>May 5</td>\n",
       "      <td>45.361</td>\n",
       "      <td>44.02</td>\n",
       "      <td>51.66</td>\n",
       "      <td>2.270861</td>\n",
       "    </tr>\n",
       "    <tr>\n",
       "      <th>2</th>\n",
       "      <td>Databricks</td>\n",
       "      <td>May 6</td>\n",
       "      <td>30.345</td>\n",
       "      <td>29.40</td>\n",
       "      <td>35.87</td>\n",
       "      <td>1.953119</td>\n",
       "    </tr>\n",
       "    <tr>\n",
       "      <th>3</th>\n",
       "      <td>Fabric</td>\n",
       "      <td>May 11</td>\n",
       "      <td>44.528</td>\n",
       "      <td>39.26</td>\n",
       "      <td>70.49</td>\n",
       "      <td>9.568024</td>\n",
       "    </tr>\n",
       "    <tr>\n",
       "      <th>4</th>\n",
       "      <td>Fabric</td>\n",
       "      <td>May 5</td>\n",
       "      <td>43.771</td>\n",
       "      <td>38.85</td>\n",
       "      <td>64.98</td>\n",
       "      <td>8.673421</td>\n",
       "    </tr>\n",
       "    <tr>\n",
       "      <th>5</th>\n",
       "      <td>Fabric</td>\n",
       "      <td>May 6</td>\n",
       "      <td>44.661</td>\n",
       "      <td>38.35</td>\n",
       "      <td>68.08</td>\n",
       "      <td>10.813046</td>\n",
       "    </tr>\n",
       "  </tbody>\n",
       "</table>\n",
       "</div>"
      ],
      "text/plain": [
       "  Environment    Date    mean    min    max        std\n",
       "0  Databricks  May 11  29.661  29.03  32.05   0.881860\n",
       "1  Databricks   May 5  45.361  44.02  51.66   2.270861\n",
       "2  Databricks   May 6  30.345  29.40  35.87   1.953119\n",
       "3      Fabric  May 11  44.528  39.26  70.49   9.568024\n",
       "4      Fabric   May 5  43.771  38.85  64.98   8.673421\n",
       "5      Fabric   May 6  44.661  38.35  68.08  10.813046"
      ]
     },
     "execution_count": 51,
     "metadata": {},
     "output_type": "execute_result"
    }
   ],
   "source": [
    "\n",
    "\n",
    "summary = df.groupby([\"Environment\", \"Date\"])[\"Execution Time (s)\"].agg([\"mean\", \"min\", \"max\", \"std\"]).reset_index()\n",
    "summary\n",
    "\n"
   ]
  },
  {
   "cell_type": "code",
   "execution_count": 52,
   "metadata": {
    "application/vnd.databricks.v1+cell": {
     "cellMetadata": {
      "byteLimit": 2048000,
      "rowLimit": 10000
     },
     "inputWidgets": {},
     "nuid": "f8a3ab2e-9923-4c4d-9bba-47e395bcc54a",
     "showTitle": false,
     "tableResultSettingsMap": {},
     "title": ""
    }
   },
   "outputs": [
    {
     "data": {
      "text/plain": [
       "'### T-Test: Databricks vs Fabric (All Days Combined)\\n\\n- t = -4.18, p = 0.0001\\n- Mean Execution Time — Databricks: 35.12s, Fabric: 44.32s\\n- Result: A statistically significant difference in execution time.\\n  On average, **Databricks** was faster across all days.'"
      ]
     },
     "execution_count": 52,
     "metadata": {},
     "output_type": "execute_result"
    }
   ],
   "source": [
    "# Perform T-Test across all days combined between Databricks and Fabric\n",
    "db_all = df[df[\"Environment\"] == \"Databricks\"][\"Execution Time (s)\"]\n",
    "fab_all = df[df[\"Environment\"] == \"Fabric\"][\"Execution Time (s)\"]\n",
    "\n",
    "# T-test\n",
    "t_all, p_all = stats.ttest_ind(db_all, fab_all, equal_var=False)\n",
    "\n",
    "# Means\n",
    "db_mean = db_all.mean()\n",
    "fab_mean = fab_all.mean()\n",
    "\n",
    "# Generate interpretation\n",
    "overall_interpretation = f\"\"\"\n",
    "### T-Test: Databricks vs Fabric (All Days Combined)\n",
    "\n",
    "- t = {t_all:.2f}, p = {p_all:.4f}\n",
    "- Mean Execution Time — Databricks: {db_mean:.2f}s, Fabric: {fab_mean:.2f}s\n",
    "- Result: {'A statistically significant difference' if p_all < 0.05 else 'No statistically significant difference'} in execution time.\n",
    "  On average, **{'Databricks' if db_mean < fab_mean else 'Fabric'}** was faster across all days.\n",
    "\"\"\"\n",
    "\n",
    "overall_interpretation.strip()"
   ]
  },
  {
   "cell_type": "markdown",
   "metadata": {
    "application/vnd.databricks.v1+cell": {
     "cellMetadata": {
      "byteLimit": 2048000,
      "rowLimit": 10000
     },
     "inputWidgets": {},
     "nuid": "93679d6c-f342-4cc4-9af6-c8ea33fc2a43",
     "showTitle": false,
     "tableResultSettingsMap": {},
     "title": ""
    }
   },
   "source": [
    "### T-Test: Databricks vs Fabric (All Days Combined)\n",
    "\n",
    "- **t** = -4.18, **p** = 0.0001  \n",
    "- **Mean Execution Time** — Databricks: 35.12s, Fabric: 44.32s  \n",
    "- **Result**: A statistically significant difference in execution time.  \n",
    "  On average, **Databricks** was faster across all days.\n"
   ]
  }
 ],
 "metadata": {
  "application/vnd.databricks.v1+notebook": {
   "computePreferences": null,
   "dashboards": [],
   "environmentMetadata": null,
   "inputWidgetPreferences": null,
   "language": "python",
   "notebookMetadata": {
    "pythonIndentUnit": 4
   },
   "notebookName": "performance_analysis_full_updated",
   "widgets": {}
  },
  "kernelspec": {
   "display_name": "Python 3",
   "language": "python",
   "name": "python3"
  },
  "language_info": {
   "codemirror_mode": {
    "name": "ipython",
    "version": 3
   },
   "file_extension": ".py",
   "mimetype": "text/x-python",
   "name": "python",
   "nbconvert_exporter": "python",
   "pygments_lexer": "ipython3",
   "version": "3.9.7"
  }
 },
 "nbformat": 4,
 "nbformat_minor": 0
}
