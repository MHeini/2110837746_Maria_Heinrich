{
 "cells": [
  {
   "cell_type": "markdown",
   "metadata": {
    "application/vnd.databricks.v1+cell": {
     "cellMetadata": {
      "byteLimit": 2048000,
      "rowLimit": 10000
     },
     "inputWidgets": {},
     "nuid": "ed6a7cd0-ad5b-4cfe-ba36-9e46db8b5153",
     "showTitle": false,
     "tableResultSettingsMap": {},
     "title": ""
    }
   },
   "source": [
    "### File: performance_analysis_full_updated.ipynb\n",
    "#### Created with assistance of ChatGPT (OpenAI) – reviewed on 2025-05-11\n",
    "#### Author: Maria Heinrich"
   ]
  },
  {
   "cell_type": "code",
   "execution_count": 14,
   "metadata": {
    "application/vnd.databricks.v1+cell": {
     "cellMetadata": {
      "byteLimit": 2048000,
      "rowLimit": 10000
     },
     "inputWidgets": {},
     "nuid": "8693e933-df2f-49c4-9ce5-007365776424",
     "showTitle": false,
     "tableResultSettingsMap": {},
     "title": ""
    }
   },
   "outputs": [
    {
     "data": {
      "text/html": [
       "<div>\n",
       "<style scoped>\n",
       "    .dataframe tbody tr th:only-of-type {\n",
       "        vertical-align: middle;\n",
       "    }\n",
       "\n",
       "    .dataframe tbody tr th {\n",
       "        vertical-align: top;\n",
       "    }\n",
       "\n",
       "    .dataframe thead th {\n",
       "        text-align: right;\n",
       "    }\n",
       "</style>\n",
       "<table border=\"1\" class=\"dataframe\">\n",
       "  <thead>\n",
       "    <tr style=\"text-align: right;\">\n",
       "      <th></th>\n",
       "      <th>Environment</th>\n",
       "      <th>Date</th>\n",
       "      <th>Execution Time (s)</th>\n",
       "    </tr>\n",
       "  </thead>\n",
       "  <tbody>\n",
       "    <tr>\n",
       "      <th>0</th>\n",
       "      <td>Databricks</td>\n",
       "      <td>May 5</td>\n",
       "      <td>51.66</td>\n",
       "    </tr>\n",
       "    <tr>\n",
       "      <th>1</th>\n",
       "      <td>Databricks</td>\n",
       "      <td>May 5</td>\n",
       "      <td>44.15</td>\n",
       "    </tr>\n",
       "    <tr>\n",
       "      <th>2</th>\n",
       "      <td>Databricks</td>\n",
       "      <td>May 5</td>\n",
       "      <td>45.22</td>\n",
       "    </tr>\n",
       "    <tr>\n",
       "      <th>3</th>\n",
       "      <td>Databricks</td>\n",
       "      <td>May 5</td>\n",
       "      <td>44.93</td>\n",
       "    </tr>\n",
       "    <tr>\n",
       "      <th>4</th>\n",
       "      <td>Databricks</td>\n",
       "      <td>May 5</td>\n",
       "      <td>45.27</td>\n",
       "    </tr>\n",
       "  </tbody>\n",
       "</table>\n",
       "</div>"
      ],
      "text/plain": [
       "  Environment   Date  Execution Time (s)\n",
       "0  Databricks  May 5               51.66\n",
       "1  Databricks  May 5               44.15\n",
       "2  Databricks  May 5               45.22\n",
       "3  Databricks  May 5               44.93\n",
       "4  Databricks  May 5               45.27"
      ]
     },
     "execution_count": 14,
     "metadata": {},
     "output_type": "execute_result"
    }
   ],
   "source": [
    "import pandas as pd\n",
    "import matplotlib.pyplot as plt\n",
    "import seaborn as sns\n",
    "import numpy as np\n",
    "from scipy import stats\n",
    "from scipy.stats import skew\n",
    "from scipy.stats import norm\n",
    "from scipy.stats import mannwhitneyu\n",
    "from IPython.display import display\n",
    "\n",
    "\n",
    "# Load your execution times CSV\n",
    "df = pd.read_csv(\"Execution_Times.csv\")  # Adjust the path as needed\n",
    "\n",
    "# Parse Environment and Date from Filename\n",
    "def parse_metadata(filename):\n",
    "    if \"Notebook\" in filename:\n",
    "        environment = \"Fabric\"\n",
    "    else:\n",
    "        environment = \"Databricks\"\n",
    "\n",
    "    if \"_0505\" in filename or \"_21_\" in filename:\n",
    "        date = \"May 5\"\n",
    "    elif \"_0506\" in filename or \"_22_\" in filename:\n",
    "        date = \"May 6\"\n",
    "    elif \"_250511_\" in filename or \"_18_\" in filename:\n",
    "        date = \"May 11\"\n",
    "    else:\n",
    "        date = \"Unknown\"\n",
    "\n",
    "    return pd.Series([environment, date])\n",
    "\n",
    "# Apply classification\n",
    "df[['Environment', 'Date']] = df['Filename'].apply(parse_metadata)\n",
    "df = df.rename(columns={\"Execution time in seconds\": \"Execution Time (s)\"})\n",
    "df = df[['Environment', 'Date', 'Execution Time (s)']]\n",
    "df.head()"
   ]
  },
  {
   "cell_type": "code",
   "execution_count": 19,
   "metadata": {},
   "outputs": [
    {
     "data": {
      "image/png": "[encoded data removed]",
      "text/plain": [
       "<Figure size 864x360 with 2 Axes>"
      ]
     },
     "metadata": {
      "needs_background": "light"
     },
     "output_type": "display_data"
    }
   ],
   "source": [
    "# Extract execution times for Fabric and Databricks\n",
    "fabric_times = df[df[\"Environment\"] == \"Fabric\"][\"Execution Time (s)\"]\n",
    "databricks_times = df[df[\"Environment\"] == \"Databricks\"][\"Execution Time (s)\"]\n",
    "\n",
    "\n",
    "# Plot distribution with fitted normal for Databricks\n",
    "plt.figure(figsize=(12, 5))\n",
    "plt.subplot(1, 2, 1)\n",
    "sns.histplot(databricks_times, bins=10, kde=True, stat=\"density\", color=\"lightgreen\", label=\"Empirical Distribution\")\n",
    "mu_db, std_db = norm.fit(databricks_times)\n",
    "x_db = np.linspace(databricks_times.min(), databricks_times.max(), 100)\n",
    "p_db = norm.pdf(x_db, mu_db, std_db)\n",
    "plt.plot(x_db, p_db, 'r--', label=f'Normal Fit\\nμ={mu_db:.2f}, σ={std_db:.2f}')\n",
    "plt.title(\"Databricks Execution Time Distribution with Normal Fit\")\n",
    "plt.xlabel(\"Execution Time (s)\")\n",
    "plt.ylabel(\"Density\")\n",
    "plt.legend()\n",
    "plt.grid(True)\n",
    "\n",
    "# Plot distribution with fitted normal for Fabric\n",
    "plt.subplot(1, 2, 2)\n",
    "sns.histplot(fabric_times, bins=10, kde=True, stat=\"density\", color=\"skyblue\", label=\"Empirical Distribution\")\n",
    "mu_fab, std_fab = norm.fit(fabric_times)\n",
    "x_fab = np.linspace(fabric_times.min(), fabric_times.max(), 100)\n",
    "p_fab = norm.pdf(x_fab, mu_fab, std_fab)\n",
    "plt.plot(x_fab, p_fab, 'r--', label=f'Normal Fit\\nμ={mu_fab:.2f}, σ={std_fab:.2f}')\n",
    "plt.title(\"Fabric Execution Time Distribution with Normal Fit\")\n",
    "plt.xlabel(\"Execution Time (s)\")\n",
    "plt.ylabel(\"Density\")\n",
    "plt.legend()\n",
    "plt.grid(True)\n",
    "\n",
    "plt.tight_layout()\n",
    "plt.show()\n"
   ]
  },
  {
   "cell_type": "code",
   "execution_count": 16,
   "metadata": {},
   "outputs": [
    {
     "data": {
      "text/html": [
       "<div>\n",
       "<style scoped>\n",
       "    .dataframe tbody tr th:only-of-type {\n",
       "        vertical-align: middle;\n",
       "    }\n",
       "\n",
       "    .dataframe tbody tr th {\n",
       "        vertical-align: top;\n",
       "    }\n",
       "\n",
       "    .dataframe thead th {\n",
       "        text-align: right;\n",
       "    }\n",
       "</style>\n",
       "<table border=\"1\" class=\"dataframe\">\n",
       "  <thead>\n",
       "    <tr style=\"text-align: right;\">\n",
       "      <th></th>\n",
       "      <th>Date</th>\n",
       "      <th>U Statistic</th>\n",
       "      <th>p-value</th>\n",
       "      <th>Databricks Median</th>\n",
       "      <th>Fabric Median</th>\n",
       "    </tr>\n",
       "  </thead>\n",
       "  <tbody>\n",
       "    <tr>\n",
       "      <th>0</th>\n",
       "      <td>May 5</td>\n",
       "      <td>80.0</td>\n",
       "      <td>0.025692</td>\n",
       "      <td>44.850</td>\n",
       "      <td>40.060</td>\n",
       "    </tr>\n",
       "    <tr>\n",
       "      <th>1</th>\n",
       "      <td>May 6</td>\n",
       "      <td>0.0</td>\n",
       "      <td>0.000182</td>\n",
       "      <td>29.755</td>\n",
       "      <td>39.565</td>\n",
       "    </tr>\n",
       "    <tr>\n",
       "      <th>2</th>\n",
       "      <td>May 11</td>\n",
       "      <td>0.0</td>\n",
       "      <td>0.000182</td>\n",
       "      <td>29.380</td>\n",
       "      <td>40.630</td>\n",
       "    </tr>\n",
       "  </tbody>\n",
       "</table>\n",
       "</div>"
      ],
      "text/plain": [
       "     Date  U Statistic   p-value  Databricks Median  Fabric Median\n",
       "0   May 5         80.0  0.025692             44.850         40.060\n",
       "1   May 6          0.0  0.000182             29.755         39.565\n",
       "2  May 11          0.0  0.000182             29.380         40.630"
      ]
     },
     "metadata": {},
     "output_type": "display_data"
    }
   ],
   "source": [
    "# Assuming df is already loaded and processed as shown earlier\n",
    "\n",
    "test_results = []\n",
    "for day in df[\"Date\"].unique():\n",
    "    group_databricks = df[(df[\"Date\"] == day) & (df[\"Environment\"] == \"Databricks\")][\"Execution Time (s)\"]\n",
    "    group_fabric = df[(df[\"Date\"] == day) & (df[\"Environment\"] == \"Fabric\")][\"Execution Time (s)\"]\n",
    "    \n",
    "    u_stat, p_value = mannwhitneyu(group_databricks, group_fabric, alternative='two-sided')\n",
    "    test_results.append({\n",
    "        \"Date\": day,\n",
    "        \"U Statistic\": u_stat,\n",
    "        \"p-value\": p_value,\n",
    "        \"Databricks Median\": group_databricks.median(),\n",
    "        \"Fabric Median\": group_fabric.median()\n",
    "    })\n",
    "\n",
    "results_df = pd.DataFrame(test_results)\n",
    "display(results_df)"
   ]
  },
  {
   "cell_type": "code",
   "execution_count": 17,
   "metadata": {
    "application/vnd.databricks.v1+cell": {
     "cellMetadata": {
      "byteLimit": 2048000,
      "rowLimit": 10000
     },
     "inputWidgets": {},
     "nuid": "457ebd91-f3f9-4811-9756-b101704899d2",
     "showTitle": false,
     "tableResultSettingsMap": {},
     "title": ""
    }
   },
   "outputs": [
    {
     "data": {
      "image/png": "[encoded data removed]",
      "text/plain": [
       "<Figure size 720x432 with 1 Axes>"
      ]
     },
     "metadata": {
      "needs_background": "light"
     },
     "output_type": "display_data"
    }
   ],
   "source": [
    "# Define custom colors\n",
    "custom_palette = {\n",
    "    \"Databricks\": \"lightgreen\",  # match distribution plot for Databricks\n",
    "    \"Fabric\": \"skyblue\"          # match distribution plot for Fabric\n",
    "}\n",
    "\n",
    "plt.figure(figsize=(10, 6))\n",
    "sns.boxplot(data=df, x=\"Date\", y=\"Execution Time (s)\", hue=\"Environment\", palette=custom_palette)\n",
    "plt.title(\"Execution Time Distribution: Azure Databricks vs Microsoft Fabric\")\n",
    "plt.grid(True)\n",
    "plt.show()\n"
   ]
  },
  {
   "cell_type": "code",
   "execution_count": 18,
   "metadata": {
    "application/vnd.databricks.v1+cell": {
     "cellMetadata": {
      "byteLimit": 2048000,
      "rowLimit": 10000
     },
     "inputWidgets": {},
     "nuid": "3d08f799-d5b9-4e1a-89be-993290af498d",
     "showTitle": false,
     "tableResultSettingsMap": {},
     "title": ""
    }
   },
   "outputs": [
    {
     "data": {
      "text/html": [
       "<div>\n",
       "<style scoped>\n",
       "    .dataframe tbody tr th:only-of-type {\n",
       "        vertical-align: middle;\n",
       "    }\n",
       "\n",
       "    .dataframe tbody tr th {\n",
       "        vertical-align: top;\n",
       "    }\n",
       "\n",
       "    .dataframe thead th {\n",
       "        text-align: right;\n",
       "    }\n",
       "</style>\n",
       "<table border=\"1\" class=\"dataframe\">\n",
       "  <thead>\n",
       "    <tr style=\"text-align: right;\">\n",
       "      <th></th>\n",
       "      <th>Environment</th>\n",
       "      <th>Date</th>\n",
       "      <th>mean</th>\n",
       "      <th>min</th>\n",
       "      <th>max</th>\n",
       "      <th>std</th>\n",
       "    </tr>\n",
       "  </thead>\n",
       "  <tbody>\n",
       "    <tr>\n",
       "      <th>0</th>\n",
       "      <td>Databricks</td>\n",
       "      <td>May 11</td>\n",
       "      <td>29.661</td>\n",
       "      <td>29.03</td>\n",
       "      <td>32.05</td>\n",
       "      <td>0.881860</td>\n",
       "    </tr>\n",
       "    <tr>\n",
       "      <th>1</th>\n",
       "      <td>Databricks</td>\n",
       "      <td>May 5</td>\n",
       "      <td>45.361</td>\n",
       "      <td>44.02</td>\n",
       "      <td>51.66</td>\n",
       "      <td>2.270861</td>\n",
       "    </tr>\n",
       "    <tr>\n",
       "      <th>2</th>\n",
       "      <td>Databricks</td>\n",
       "      <td>May 6</td>\n",
       "      <td>30.345</td>\n",
       "      <td>29.40</td>\n",
       "      <td>35.87</td>\n",
       "      <td>1.953119</td>\n",
       "    </tr>\n",
       "    <tr>\n",
       "      <th>3</th>\n",
       "      <td>Fabric</td>\n",
       "      <td>May 11</td>\n",
       "      <td>44.528</td>\n",
       "      <td>39.26</td>\n",
       "      <td>70.49</td>\n",
       "      <td>9.568024</td>\n",
       "    </tr>\n",
       "    <tr>\n",
       "      <th>4</th>\n",
       "      <td>Fabric</td>\n",
       "      <td>May 5</td>\n",
       "      <td>43.771</td>\n",
       "      <td>38.85</td>\n",
       "      <td>64.98</td>\n",
       "      <td>8.673421</td>\n",
       "    </tr>\n",
       "    <tr>\n",
       "      <th>5</th>\n",
       "      <td>Fabric</td>\n",
       "      <td>May 6</td>\n",
       "      <td>44.661</td>\n",
       "      <td>38.35</td>\n",
       "      <td>68.08</td>\n",
       "      <td>10.813046</td>\n",
       "    </tr>\n",
       "  </tbody>\n",
       "</table>\n",
       "</div>"
      ],
      "text/plain": [
       "  Environment    Date    mean    min    max        std\n",
       "0  Databricks  May 11  29.661  29.03  32.05   0.881860\n",
       "1  Databricks   May 5  45.361  44.02  51.66   2.270861\n",
       "2  Databricks   May 6  30.345  29.40  35.87   1.953119\n",
       "3      Fabric  May 11  44.528  39.26  70.49   9.568024\n",
       "4      Fabric   May 5  43.771  38.85  64.98   8.673421\n",
       "5      Fabric   May 6  44.661  38.35  68.08  10.813046"
      ]
     },
     "execution_count": 18,
     "metadata": {},
     "output_type": "execute_result"
    }
   ],
   "source": [
    "\n",
    "\n",
    "summary = df.groupby([\"Environment\", \"Date\"])[\"Execution Time (s)\"].agg([\"mean\", \"min\", \"max\", \"std\"]).reset_index()\n",
    "summary\n",
    "\n"
   ]
  }
 ],
 "metadata": {
  "application/vnd.databricks.v1+notebook": {
   "computePreferences": null,
   "dashboards": [],
   "environmentMetadata": null,
   "inputWidgetPreferences": null,
   "language": "python",
   "notebookMetadata": {
    "pythonIndentUnit": 4
   },
   "notebookName": "performance_analysis_full_updated",
   "widgets": {}
  },
  "kernelspec": {
   "display_name": "Python 3",
   "language": "python",
   "name": "python3"
  },
  "language_info": {
   "codemirror_mode": {
    "name": "ipython",
    "version": 3
   },
   "file_extension": ".py",
   "mimetype": "text/x-python",
   "name": "python",
   "nbconvert_exporter": "python",
   "pygments_lexer": "ipython3",
   "version": "3.9.7"
  }
 },
 "nbformat": 4,
 "nbformat_minor": 0
}
